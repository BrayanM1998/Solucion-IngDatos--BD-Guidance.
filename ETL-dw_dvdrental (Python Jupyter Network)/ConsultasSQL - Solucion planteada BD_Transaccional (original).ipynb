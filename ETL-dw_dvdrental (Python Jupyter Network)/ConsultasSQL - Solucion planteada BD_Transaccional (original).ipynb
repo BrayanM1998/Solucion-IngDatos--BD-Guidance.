{
 "cells": [
  {
   "cell_type": "markdown",
   "id": "d322fa59",
   "metadata": {},
   "source": [
    "# PRUEBA - ING DATOS (ConsultasSQL - Solucion planteada desde bd original)"
   ]
  },
  {
   "cell_type": "markdown",
   "id": "7ef3447a",
   "metadata": {},
   "source": [
    "## Log Ejecucion"
   ]
  },
  {
   "cell_type": "code",
   "execution_count": 81,
   "id": "86b0e5da",
   "metadata": {},
   "outputs": [
    {
     "data": {
      "text/html": [
       "<style type=\"text/css\">.generated-text {   font-family:Verdana, sans-serif; font-size:inherit;   font-style:italic;   line-height:20px;   text-align:justify;   color:#1b5727;   background-color:#ffffff;   padding:20px;   margin:auto;}</style>\n",
       "<h6 class=\"generated-text\">Proceso ejecutado por: Brayan Muñoz</h6>"
      ],
      "text/plain": [
       "<IPython.core.display.HTML object>"
      ]
     },
     "metadata": {},
     "output_type": "display_data"
    },
    {
     "data": {
      "text/plain": [
       "'Fecha y hora de inicio: '"
      ]
     },
     "metadata": {},
     "output_type": "display_data"
    },
    {
     "data": {
      "text/plain": [
       "'2024-02-20 06:44'"
      ]
     },
     "metadata": {},
     "output_type": "display_data"
    },
    {
     "data": {
      "text/plain": [
       "{'base_url': '/',\n",
       " 'hostname': 'localhost',\n",
       " 'notebook_dir': 'C:\\\\Users\\\\braya',\n",
       " 'password': False,\n",
       " 'pid': 10468,\n",
       " 'port': 8888,\n",
       " 'secure': False,\n",
       " 'sock': '',\n",
       " 'token': 'cfc56ea9c00d163e9f8813d5fe0db7c04c31ccc8b93e5ec3',\n",
       " 'url': 'http://localhost:8888/'}"
      ]
     },
     "metadata": {},
     "output_type": "display_data"
    }
   ],
   "source": [
    "import datetime\n",
    "from IPython.display import display, HTML\n",
    "from notebook import notebookapp\n",
    "servers = list(notebookapp.list_running_servers())\n",
    "now = datetime.datetime.now()\n",
    "display(HTML(\"\"\"<style type=\"text/css\">.generated-text {   font-family:Verdana, sans-serif; font-size:inherit;   font-style:italic;   line-height:20px;   text-align:justify;   color:#1b5727;   background-color:#ffffff;   padding:20px;   margin:auto;}</style>\n",
    "<h6 class=\"generated-text\">Proceso ejecutado por: Brayan Muñoz</h6>\"\"\"))\n",
    "display (\"Fecha y hora de inicio: \")\n",
    "display (now.strftime(\"%Y-%m-%d %H:%M\"))\n",
    "display(servers[0])"
   ]
  },
  {
   "cell_type": "markdown",
   "id": "517e0387",
   "metadata": {},
   "source": [
    "## Librerias"
   ]
  },
  {
   "cell_type": "code",
   "execution_count": 17,
   "id": "201cd394",
   "metadata": {},
   "outputs": [],
   "source": [
    "import psycopg2 as bd"
   ]
  },
  {
   "cell_type": "markdown",
   "id": "e70bbd08",
   "metadata": {},
   "source": [
    "### 1. Ventas totales en USD."
   ]
  },
  {
   "cell_type": "code",
   "execution_count": 21,
   "id": "4b7b1723",
   "metadata": {
    "scrolled": true
   },
   "outputs": [
    {
     "name": "stdout",
     "output_type": "stream",
     "text": [
      "RESPUESTA:\n",
      "(Decimal('61312.04'),)\n"
     ]
    }
   ],
   "source": [
    "conexion = bd.connect(host=\"localhost\", database=\"dvdrental\", user=\"postgres\", password=\"12345\")\n",
    "cur = conexion.cursor()\n",
    "cur.execute(\"select sum(p.amount) from payment p \")\n",
    "result = cur.fetchall()\n",
    "\n",
    "print(\"RESPUESTA:\")\n",
    "for fila in result:\n",
    "    print(fila)\n",
    "    \n",
    "conexion.commit()\n",
    "cur.close()"
   ]
  },
  {
   "cell_type": "markdown",
   "id": "0bcdb22e",
   "metadata": {},
   "source": [
    "### 2. Cantidad total de las transacciones de ventas."
   ]
  },
  {
   "cell_type": "code",
   "execution_count": 22,
   "id": "ba33cd96",
   "metadata": {},
   "outputs": [
    {
     "name": "stdout",
     "output_type": "stream",
     "text": [
      "RESPUESTA:\n",
      "(14596,)\n"
     ]
    }
   ],
   "source": [
    "conexion = bd.connect(host=\"localhost\", database=\"dvdrental\", user=\"postgres\", password=\"12345\")\n",
    "cur = conexion.cursor()\n",
    "cur.execute(\"select count(p.amount) from payment p   \")\n",
    "result = cur.fetchall()\n",
    "\n",
    "print(\"RESPUESTA:\")\n",
    "for fila in result:\n",
    "    print(fila)\n",
    "    \n",
    "conexion.commit()\n",
    "cur.close()"
   ]
  },
  {
   "cell_type": "markdown",
   "id": "00b547d4",
   "metadata": {},
   "source": [
    "### 3. Ventas en dólares por país en los que se ubican las tiendas."
   ]
  },
  {
   "cell_type": "code",
   "execution_count": 43,
   "id": "5e3fe6b1",
   "metadata": {
    "scrolled": true
   },
   "outputs": [
    {
     "name": "stdout",
     "output_type": "stream",
     "text": [
      "RESPUESTA:\n",
      "('Canada', Decimal('30252.12'))\n",
      "('Australia', Decimal('31059.92'))\n"
     ]
    }
   ],
   "source": [
    "conexion = bd.connect(host=\"localhost\", database=\"dvdrental\", user=\"postgres\", password=\"12345\")\n",
    "cur = conexion.cursor()\n",
    "cur.execute(\"\"\"select c.country, sum(p.amount) Ventas  \n",
    "                from country c, city c2, address a,  store s, staff s2, payment p \n",
    "                where c.country_id = c2.country_id and c2.city_id =a.city_id and a.address_id = s.address_id and s.store_id =s2.store_id  and s2.staff_id =p.staff_id and s.manager_staff_id =s2.staff_id \n",
    "                group by c.country \"\"\")\n",
    "result = cur.fetchall()\n",
    "\n",
    "print(\"RESPUESTA:\")\n",
    "for fila in result:\n",
    "    print(fila)\n",
    "    \n",
    "conexion.commit()\n",
    "cur.close()"
   ]
  },
  {
   "cell_type": "markdown",
   "id": "160e09d6",
   "metadata": {},
   "source": [
    "### 4. Ventas en dólares a través del tiempo."
   ]
  },
  {
   "cell_type": "code",
   "execution_count": 37,
   "id": "aa69b41f",
   "metadata": {},
   "outputs": [
    {
     "name": "stdout",
     "output_type": "stream",
     "text": [
      "RESPUESTA:\n",
      "('2007-02', Decimal('8351.84'))\n",
      "('2007-03', Decimal('23886.56'))\n",
      "('2007-04', Decimal('28559.46'))\n",
      "('2007-05', Decimal('514.18'))\n"
     ]
    }
   ],
   "source": [
    "conexion = bd.connect(host=\"localhost\", database=\"dvdrental\", user=\"postgres\", password=\"12345\")\n",
    "cur = conexion.cursor()\n",
    "cur.execute(\"\"\"select to_char(P.payment_date ,'YYYY-MM') Fecha, sum(amount) from payment p\n",
    "                group by Fecha \n",
    "                order by Fecha asc \"\"\")\n",
    "result = cur.fetchall()\n",
    "\n",
    "print(\"RESPUESTA:\")\n",
    "for fila in result:\n",
    "    print(fila)\n",
    "    \n",
    "conexion.commit()\n",
    "cur.close()"
   ]
  },
  {
   "cell_type": "markdown",
   "id": "12db252e",
   "metadata": {},
   "source": [
    "### 5. Identificar los cinco clientes con mayor valor total en compras."
   ]
  },
  {
   "cell_type": "code",
   "execution_count": 38,
   "id": "f3e3c461",
   "metadata": {
    "scrolled": true
   },
   "outputs": [
    {
     "name": "stdout",
     "output_type": "stream",
     "text": [
      "RESPUESTA:\n",
      "(148, 'Eleanor', 'Hunt', Decimal('211.55'))\n",
      "(526, 'Karl', 'Seal', Decimal('208.58'))\n",
      "(178, 'Marion', 'Snyder', Decimal('194.61'))\n",
      "(137, 'Rhonda', 'Kennedy', Decimal('191.62'))\n",
      "(144, 'Clara', 'Shaw', Decimal('189.60'))\n"
     ]
    }
   ],
   "source": [
    "conexion = bd.connect(host=\"localhost\", database=\"dvdrental\", user=\"postgres\", password=\"12345\")\n",
    "cur = conexion.cursor()\n",
    "cur.execute(\"\"\"select C3.customer_id , C3.first_name , C3.last_name , sum(P.amount) Ventas_Totales  from country c, city c2, address a, customer c3, payment p \n",
    "                where c.country_id = c2.country_id and c2.city_id =a.city_id and a.address_id =c3.address_id  and c3.customer_id =p.customer_id \n",
    "                group by c3.customer_id \n",
    "                order by Ventas_Totales desc\n",
    "                limit 5\"\"\")\n",
    "result = cur.fetchall()\n",
    "\n",
    "print(\"RESPUESTA:\")\n",
    "for fila in result:\n",
    "    print(fila)\n",
    "    \n",
    "conexion.commit()\n",
    "cur.close()"
   ]
  },
  {
   "cell_type": "markdown",
   "id": "39bb0794",
   "metadata": {},
   "source": [
    "### 6. Identificar las cinco películas con mayores ventas totales."
   ]
  },
  {
   "cell_type": "code",
   "execution_count": 39,
   "id": "81874298",
   "metadata": {},
   "outputs": [
    {
     "name": "stdout",
     "output_type": "stream",
     "text": [
      "RESPUESTA:\n",
      "(879, 'Telegraph Voyage', Decimal('215.75'))\n",
      "(1000, 'Zorro Ark', Decimal('199.72'))\n",
      "(973, 'Wife Turn', Decimal('198.73'))\n",
      "(460, 'Innocent Usual', Decimal('191.74'))\n",
      "(444, 'Hustler Party', Decimal('190.78'))\n"
     ]
    }
   ],
   "source": [
    "conexion = bd.connect(host=\"localhost\", database=\"dvdrental\", user=\"postgres\", password=\"12345\")\n",
    "cur = conexion.cursor()\n",
    "cur.execute(\"\"\"select f.film_id , f.title, sum(p.amount) Compras_Totales from film f, inventory i, rental r , payment p  \n",
    "                where f.film_id =i.film_id and i.inventory_id = r.inventory_id and r.rental_id = p.rental_id \n",
    "                group by f.film_id \n",
    "                order by Compras_Totales desc\n",
    "                limit 5\"\"\")\n",
    "result = cur.fetchall()\n",
    "\n",
    "print(\"RESPUESTA:\")\n",
    "for fila in result:\n",
    "    print(fila)\n",
    "    \n",
    "conexion.commit()\n",
    "cur.close()"
   ]
  },
  {
   "cell_type": "code",
   "execution_count": null,
   "id": "c82d69ef",
   "metadata": {},
   "outputs": [],
   "source": [
    "conexion.close()"
   ]
  }
 ],
 "metadata": {
  "kernelspec": {
   "display_name": "Python 3 (ipykernel)",
   "language": "python",
   "name": "python3"
  },
  "language_info": {
   "codemirror_mode": {
    "name": "ipython",
    "version": 3
   },
   "file_extension": ".py",
   "mimetype": "text/x-python",
   "name": "python",
   "nbconvert_exporter": "python",
   "pygments_lexer": "ipython3",
   "version": "3.11.5"
  }
 },
 "nbformat": 4,
 "nbformat_minor": 5
}
