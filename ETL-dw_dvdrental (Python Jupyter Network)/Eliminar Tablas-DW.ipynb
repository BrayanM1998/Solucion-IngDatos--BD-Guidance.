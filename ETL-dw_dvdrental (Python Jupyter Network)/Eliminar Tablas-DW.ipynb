{
 "cells": [
  {
   "cell_type": "markdown",
   "id": "78984027",
   "metadata": {},
   "source": [
    "# PRUEBA ING DATOS (Eliminacion de Tablas - DW)"
   ]
  },
  {
   "cell_type": "code",
   "execution_count": 5,
   "id": "7fedb372",
   "metadata": {},
   "outputs": [
    {
     "data": {
      "text/html": [
       "<style type=\"text/css\">.generated-text {   font-family:Verdana, sans-serif; font-size:inherit;   font-style:italic;   line-height:20px;   text-align:justify;   color:#1b5727;   background-color:#ffffff;   padding:20px;   margin:auto;}</style>\n",
       "<h6 class=\"generated-text\">Proceso ejecutado por: Brayan Muñoz</h6>"
      ],
      "text/plain": [
       "<IPython.core.display.HTML object>"
      ]
     },
     "metadata": {},
     "output_type": "display_data"
    },
    {
     "data": {
      "text/plain": [
       "'Fecha y hora de inicio: '"
      ]
     },
     "metadata": {},
     "output_type": "display_data"
    },
    {
     "data": {
      "text/plain": [
       "'2024-02-20 14:42'"
      ]
     },
     "metadata": {},
     "output_type": "display_data"
    },
    {
     "data": {
      "text/plain": [
       "{'base_url': '/',\n",
       " 'hostname': 'localhost',\n",
       " 'notebook_dir': 'C:\\\\Users\\\\braya',\n",
       " 'password': False,\n",
       " 'pid': 10468,\n",
       " 'port': 8888,\n",
       " 'secure': False,\n",
       " 'sock': '',\n",
       " 'token': 'cfc56ea9c00d163e9f8813d5fe0db7c04c31ccc8b93e5ec3',\n",
       " 'url': 'http://localhost:8888/'}"
      ]
     },
     "metadata": {},
     "output_type": "display_data"
    }
   ],
   "source": [
    "import datetime\n",
    "from IPython.display import display, HTML\n",
    "from notebook import notebookapp\n",
    "servers = list(notebookapp.list_running_servers())\n",
    "now = datetime.datetime.now()\n",
    "display(HTML(\"\"\"<style type=\"text/css\">.generated-text {   font-family:Verdana, sans-serif; font-size:inherit;   font-style:italic;   line-height:20px;   text-align:justify;   color:#1b5727;   background-color:#ffffff;   padding:20px;   margin:auto;}</style>\n",
    "<h6 class=\"generated-text\">Proceso ejecutado por: Brayan Muñoz</h6>\"\"\"))\n",
    "display (\"Fecha y hora de inicio: \")\n",
    "display (now.strftime(\"%Y-%m-%d %H:%M\"))\n",
    "display(servers[0])"
   ]
  },
  {
   "cell_type": "markdown",
   "id": "27e29c8e",
   "metadata": {},
   "source": [
    "## Librerias"
   ]
  },
  {
   "cell_type": "code",
   "execution_count": 6,
   "id": "9aead926",
   "metadata": {},
   "outputs": [],
   "source": [
    "import psycopg2 as bd"
   ]
  },
  {
   "cell_type": "markdown",
   "id": "3c89a971",
   "metadata": {},
   "source": [
    "### Conexion BD y Elinacion de todas las tablas"
   ]
  },
  {
   "cell_type": "code",
   "execution_count": 7,
   "id": "8cd43bae",
   "metadata": {},
   "outputs": [],
   "source": [
    "conexion_dw = bd.connect(host=\"localhost\", database=\"dw_dvdrental\", user=\"postgres\", password=\"12345\", port='5431')\n",
    "cur = conexion_dw.cursor()\n",
    "cur.execute(\"\"\" DROP TABLE dw_Sales;\n",
    "                DROP TABLE dw_Film;\n",
    "                DROP TABLE dw_Date;\n",
    "                DROP TABLE dw_Staff;\n",
    "                DROP TABLE dw_Customer;\n",
    "                DROP TABLE dw_Store;\"\"\")\n",
    "conexion_dw.commit()\n",
    "cur.close()"
   ]
  },
  {
   "cell_type": "code",
   "execution_count": 8,
   "id": "6d97cb48",
   "metadata": {},
   "outputs": [],
   "source": [
    "conexion_dw.close()"
   ]
  },
  {
   "cell_type": "markdown",
   "id": "e9d6cb30",
   "metadata": {},
   "source": [
    "### Fin :)"
   ]
  }
 ],
 "metadata": {
  "kernelspec": {
   "display_name": "Python 3 (ipykernel)",
   "language": "python",
   "name": "python3"
  },
  "language_info": {
   "codemirror_mode": {
    "name": "ipython",
    "version": 3
   },
   "file_extension": ".py",
   "mimetype": "text/x-python",
   "name": "python",
   "nbconvert_exporter": "python",
   "pygments_lexer": "ipython3",
   "version": "3.11.5"
  }
 },
 "nbformat": 4,
 "nbformat_minor": 5
}
