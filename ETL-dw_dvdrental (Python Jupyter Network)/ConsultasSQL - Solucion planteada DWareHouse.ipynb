{
 "cells": [
  {
   "cell_type": "markdown",
   "id": "d322fa59",
   "metadata": {},
   "source": [
    "# PRUEBA - ING DATOS (ConsultasSQL - Solucion planteada DWareHouse)"
   ]
  },
  {
   "cell_type": "markdown",
   "id": "7ef3447a",
   "metadata": {},
   "source": [
    "## Log Ejecucion"
   ]
  },
  {
   "cell_type": "code",
   "execution_count": 81,
   "id": "86b0e5da",
   "metadata": {},
   "outputs": [
    {
     "data": {
      "text/html": [
       "<style type=\"text/css\">.generated-text {   font-family:Verdana, sans-serif; font-size:inherit;   font-style:italic;   line-height:20px;   text-align:justify;   color:#1b5727;   background-color:#ffffff;   padding:20px;   margin:auto;}</style>\n",
       "<h6 class=\"generated-text\">Proceso ejecutado por: Brayan Muñoz</h6>"
      ],
      "text/plain": [
       "<IPython.core.display.HTML object>"
      ]
     },
     "metadata": {},
     "output_type": "display_data"
    },
    {
     "data": {
      "text/plain": [
       "'Fecha y hora de inicio: '"
      ]
     },
     "metadata": {},
     "output_type": "display_data"
    },
    {
     "data": {
      "text/plain": [
       "'2024-02-20 06:44'"
      ]
     },
     "metadata": {},
     "output_type": "display_data"
    },
    {
     "data": {
      "text/plain": [
       "{'base_url': '/',\n",
       " 'hostname': 'localhost',\n",
       " 'notebook_dir': 'C:\\\\Users\\\\braya',\n",
       " 'password': False,\n",
       " 'pid': 10468,\n",
       " 'port': 8888,\n",
       " 'secure': False,\n",
       " 'sock': '',\n",
       " 'token': 'cfc56ea9c00d163e9f8813d5fe0db7c04c31ccc8b93e5ec3',\n",
       " 'url': 'http://localhost:8888/'}"
      ]
     },
     "metadata": {},
     "output_type": "display_data"
    }
   ],
   "source": [
    "import datetime\n",
    "from IPython.display import display, HTML\n",
    "from notebook import notebookapp\n",
    "servers = list(notebookapp.list_running_servers())\n",
    "now = datetime.datetime.now()\n",
    "display(HTML(\"\"\"<style type=\"text/css\">.generated-text {   font-family:Verdana, sans-serif; font-size:inherit;   font-style:italic;   line-height:20px;   text-align:justify;   color:#1b5727;   background-color:#ffffff;   padding:20px;   margin:auto;}</style>\n",
    "<h6 class=\"generated-text\">Proceso ejecutado por: Brayan Muñoz</h6>\"\"\"))\n",
    "display (\"Fecha y hora de inicio: \")\n",
    "display (now.strftime(\"%Y-%m-%d %H:%M\"))\n",
    "display(servers[0])"
   ]
  },
  {
   "cell_type": "markdown",
   "id": "517e0387",
   "metadata": {},
   "source": [
    "## Librerias"
   ]
  },
  {
   "cell_type": "code",
   "execution_count": 1,
   "id": "201cd394",
   "metadata": {},
   "outputs": [],
   "source": [
    "import psycopg2 as bd"
   ]
  },
  {
   "cell_type": "markdown",
   "id": "e70bbd08",
   "metadata": {},
   "source": [
    "### 1. Ventas totales en USD."
   ]
  },
  {
   "cell_type": "code",
   "execution_count": 5,
   "id": "4b7b1723",
   "metadata": {
    "scrolled": true
   },
   "outputs": [
    {
     "name": "stdout",
     "output_type": "stream",
     "text": [
      "RESPUESTA:\n",
      "(Decimal('61312.04'),)\n"
     ]
    }
   ],
   "source": [
    "conexion_dw = bd.connect(host=\"localhost\", database=\"dw_dvdrental\", user=\"postgres\", password=\"12345\", port='5431')\n",
    "cur = conexion_dw.cursor()\n",
    "cur.execute(\"\"\" SELECT SUM(amount) FROM Dw_Sales\"\"\")\n",
    "result = cur.fetchall()\n",
    "\n",
    "print(\"RESPUESTA DEDE DW:\")\n",
    "for fila in result:\n",
    "    print(fila)\n",
    "    \n",
    "conexion_dw.commit()\n",
    "cur.close()"
   ]
  },
  {
   "cell_type": "markdown",
   "id": "1411333f",
   "metadata": {},
   "source": [
    "### 2. Cantidad total de las transacciones de ventas."
   ]
  },
  {
   "cell_type": "code",
   "execution_count": 6,
   "id": "584a96e9",
   "metadata": {},
   "outputs": [
    {
     "name": "stdout",
     "output_type": "stream",
     "text": [
      "RESPUESTA:\n",
      "(14596,)\n"
     ]
    }
   ],
   "source": [
    "conexion_dw = bd.connect(host=\"localhost\", database=\"dw_dvdrental\", user=\"postgres\", password=\"12345\", port='5431')\n",
    "cur = conexion_dw.cursor()\n",
    "cur.execute(\"\"\" SELECT COUNT(p.amount) FROM Dw_Sales p\"\"\")\n",
    "result = cur.fetchall()\n",
    "\n",
    "print(\"RESPUESTA DEDE DW:\")\n",
    "for fila in result:\n",
    "    print(fila)\n",
    "    \n",
    "conexion_dw.commit()\n",
    "cur.close()"
   ]
  },
  {
   "cell_type": "markdown",
   "id": "a159d973",
   "metadata": {},
   "source": [
    "### 3. Ventas en dólares por país en los que se ubican las tiendas."
   ]
  },
  {
   "cell_type": "code",
   "execution_count": 10,
   "id": "97d4932f",
   "metadata": {
    "scrolled": true
   },
   "outputs": [
    {
     "name": "stdout",
     "output_type": "stream",
     "text": [
      "RESPUESTA DEDE DW:\n",
      "('Australia', Decimal('31059.92'))\n",
      "('Canada', Decimal('30252.12'))\n"
     ]
    }
   ],
   "source": [
    "conexion_dw = bd.connect(host=\"localhost\", database=\"dw_dvdrental\", user=\"postgres\", password=\"12345\", port='5431')\n",
    "cur = conexion_dw.cursor()\n",
    "cur.execute(\"\"\"SELECT s.country, SUM(p.amount) Total_Ventas  \n",
    "                FROM Dw_store s, Dw_sales p \n",
    "                WHERE s.store_id = p.store_fk \n",
    "                group by s.country \"\"\")\n",
    "result = cur.fetchall()\n",
    "\n",
    "print(\"RESPUESTA DEDE DW:\")\n",
    "for fila in result:\n",
    "    print(fila)\n",
    "    \n",
    "conexion_dw.commit()\n",
    "cur.close()"
   ]
  },
  {
   "cell_type": "markdown",
   "id": "34b5880b",
   "metadata": {},
   "source": [
    "### 4. Ventas en dólares a través del tiempo."
   ]
  },
  {
   "cell_type": "code",
   "execution_count": 19,
   "id": "c96e2924",
   "metadata": {},
   "outputs": [
    {
     "name": "stdout",
     "output_type": "stream",
     "text": [
      "RESPUESTA DEDE DW:\n",
      "('2007-02', Decimal('8351.84'))\n",
      "('2007-03', Decimal('23886.56'))\n",
      "('2007-04', Decimal('28559.46'))\n",
      "('2007-05', Decimal('514.18'))\n"
     ]
    }
   ],
   "source": [
    "conexion_dw = bd.connect(host=\"localhost\", database=\"dw_dvdrental\", user=\"postgres\", password=\"12345\", port='5431')\n",
    "cur = conexion_dw.cursor()\n",
    "cur.execute(\"\"\" SELECT TO_CHAR(p.date_fk ,'YYYY-MM') Fecha , SUM(p.amount) Total_Ventas  \n",
    "                FROM Dw_sales p \n",
    "                GROUP BY Fecha \n",
    "                ORDER BY Fecha ASC\"\"\")\n",
    "result = cur.fetchall()\n",
    "\n",
    "print(\"RESPUESTA DEDE DW:\")\n",
    "for fila in result:\n",
    "    print(fila)\n",
    "    \n",
    "conexion_dw.commit()\n",
    "cur.close()"
   ]
  },
  {
   "cell_type": "markdown",
   "id": "4f0461c8",
   "metadata": {},
   "source": [
    "### 5. Identificar los cinco clientes con mayor valor total en compras."
   ]
  },
  {
   "cell_type": "code",
   "execution_count": 17,
   "id": "39721952",
   "metadata": {
    "scrolled": true
   },
   "outputs": [
    {
     "name": "stdout",
     "output_type": "stream",
     "text": [
      "RESPUESTA DEDE DW:\n",
      "(148, 'Eleanor', 'Hunt', Decimal('211.55'))\n",
      "(526, 'Karl', 'Seal', Decimal('208.58'))\n",
      "(178, 'Marion', 'Snyder', Decimal('194.61'))\n",
      "(137, 'Rhonda', 'Kennedy', Decimal('191.62'))\n",
      "(144, 'Clara', 'Shaw', Decimal('189.60'))\n"
     ]
    }
   ],
   "source": [
    "conexion_dw = bd.connect(host=\"localhost\", database=\"dw_dvdrental\", user=\"postgres\", password=\"12345\", port='5431')\n",
    "cur = conexion_dw.cursor()\n",
    "cur.execute(\"\"\" SELECT C.customer_id , C.first_name , C.last_name , SUM(P.amount) Ventas_Totales  \n",
    "                FROM Dw_customer c, Dw_Sales p \n",
    "                WHERE c.customer_id =p.customer_fk \n",
    "                GROUP BY c.customer_id \n",
    "                ORDER BY Ventas_Totales DESC\n",
    "                LIMIT 5\"\"\")\n",
    "result = cur.fetchall()\n",
    "\n",
    "print(\"RESPUESTA DEDE DW:\")\n",
    "for fila in result:\n",
    "    print(fila)\n",
    "    \n",
    "conexion_dw.commit()\n",
    "cur.close()"
   ]
  },
  {
   "cell_type": "markdown",
   "id": "4a6413b7",
   "metadata": {},
   "source": [
    "### 6. Identificar las cinco películas con mayores ventas totales."
   ]
  },
  {
   "cell_type": "code",
   "execution_count": 18,
   "id": "7703e9e3",
   "metadata": {},
   "outputs": [
    {
     "name": "stdout",
     "output_type": "stream",
     "text": [
      "RESPUESTA DEDE DW:\n",
      "(879, 'Telegraph Voyage', Decimal('215.75'))\n",
      "(1000, 'Zorro Ark', Decimal('199.72'))\n",
      "(973, 'Wife Turn', Decimal('198.73'))\n",
      "(460, 'Innocent Usual', Decimal('191.74'))\n",
      "(444, 'Hustler Party', Decimal('190.78'))\n"
     ]
    }
   ],
   "source": [
    "conexion_dw = bd.connect(host=\"localhost\", database=\"dw_dvdrental\", user=\"postgres\", password=\"12345\", port='5431')\n",
    "cur = conexion_dw.cursor()\n",
    "cur.execute(\"\"\" SELECT f.film_id , f.title, sum(p.amount) Compras_Totales \n",
    "                FROM Dw_film f, Dw_Sales p  \n",
    "                WHERE f.film_id = p.film_fk \n",
    "                GROUP BY f.film_id \n",
    "                ORDER BY Compras_Totales DESC\n",
    "                LIMIT 5\"\"\")\n",
    "result = cur.fetchall()\n",
    "\n",
    "print(\"RESPUESTA DEDE DW:\")\n",
    "for fila in result:\n",
    "    print(fila)\n",
    "    \n",
    "conexion_dw.commit()\n",
    "cur.close()"
   ]
  },
  {
   "cell_type": "code",
   "execution_count": null,
   "id": "0d0238c6",
   "metadata": {},
   "outputs": [],
   "source": [
    "conexion.close()"
   ]
  }
 ],
 "metadata": {
  "kernelspec": {
   "display_name": "Python 3 (ipykernel)",
   "language": "python",
   "name": "python3"
  },
  "language_info": {
   "codemirror_mode": {
    "name": "ipython",
    "version": 3
   },
   "file_extension": ".py",
   "mimetype": "text/x-python",
   "name": "python",
   "nbconvert_exporter": "python",
   "pygments_lexer": "ipython3",
   "version": "3.11.5"
  }
 },
 "nbformat": 4,
 "nbformat_minor": 5
}
