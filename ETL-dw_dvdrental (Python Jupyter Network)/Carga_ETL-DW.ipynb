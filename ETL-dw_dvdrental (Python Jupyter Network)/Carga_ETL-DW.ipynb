{
 "cells": [
  {
   "cell_type": "markdown",
   "id": "d322fa59",
   "metadata": {},
   "source": [
    "# PRUEBA - ING DATOS (Carga-ETL del DataWareHouse)"
   ]
  },
  {
   "cell_type": "markdown",
   "id": "7ef3447a",
   "metadata": {},
   "source": [
    "## Log Ejecucion"
   ]
  },
  {
   "cell_type": "code",
   "execution_count": 1,
   "id": "86b0e5da",
   "metadata": {},
   "outputs": [
    {
     "data": {
      "text/html": [
       "<style type=\"text/css\">.generated-text {   font-family:Verdana, sans-serif; font-size:inherit;   font-style:italic;   line-height:20px;   text-align:justify;   color:#1b5727;   background-color:#ffffff;   padding:20px;   margin:auto;}</style>\n",
       "<h6 class=\"generated-text\">Proceso ejecutado por: Brayan Muñoz</h6>"
      ],
      "text/plain": [
       "<IPython.core.display.HTML object>"
      ]
     },
     "metadata": {},
     "output_type": "display_data"
    },
    {
     "data": {
      "text/plain": [
       "'Fecha y hora de inicio: '"
      ]
     },
     "metadata": {},
     "output_type": "display_data"
    },
    {
     "data": {
      "text/plain": [
       "'2024-02-20 08:39'"
      ]
     },
     "metadata": {},
     "output_type": "display_data"
    },
    {
     "data": {
      "text/plain": [
       "{'base_url': '/',\n",
       " 'hostname': 'localhost',\n",
       " 'notebook_dir': 'C:\\\\Users\\\\braya',\n",
       " 'password': False,\n",
       " 'pid': 10468,\n",
       " 'port': 8888,\n",
       " 'secure': False,\n",
       " 'sock': '',\n",
       " 'token': 'cfc56ea9c00d163e9f8813d5fe0db7c04c31ccc8b93e5ec3',\n",
       " 'url': 'http://localhost:8888/'}"
      ]
     },
     "metadata": {},
     "output_type": "display_data"
    }
   ],
   "source": [
    "import datetime\n",
    "from IPython.display import display, HTML\n",
    "from notebook import notebookapp\n",
    "servers = list(notebookapp.list_running_servers())\n",
    "now = datetime.datetime.now()\n",
    "display(HTML(\"\"\"<style type=\"text/css\">.generated-text {   font-family:Verdana, sans-serif; font-size:inherit;   font-style:italic;   line-height:20px;   text-align:justify;   color:#1b5727;   background-color:#ffffff;   padding:20px;   margin:auto;}</style>\n",
    "<h6 class=\"generated-text\">Proceso ejecutado por: Brayan Muñoz</h6>\"\"\"))\n",
    "display (\"Fecha y hora de inicio: \")\n",
    "display (now.strftime(\"%Y-%m-%d %H:%M\"))\n",
    "display(servers[0])"
   ]
  },
  {
   "cell_type": "markdown",
   "id": "517e0387",
   "metadata": {},
   "source": [
    "## Librerias"
   ]
  },
  {
   "cell_type": "code",
   "execution_count": 2,
   "id": "a286d854",
   "metadata": {},
   "outputs": [],
   "source": [
    "import psycopg2 as bd"
   ]
  },
  {
   "cell_type": "markdown",
   "id": "3f4a051b",
   "metadata": {},
   "source": [
    "### Conexion a BD's"
   ]
  },
  {
   "cell_type": "code",
   "execution_count": 3,
   "id": "cc780b70",
   "metadata": {},
   "outputs": [],
   "source": [
    "conexion = bd.connect(host=\"localhost\", database=\"dvdrental\", user=\"postgres\", password=\"12345\")\n",
    "\n",
    "conexion_dw = bd.connect(host=\"localhost\", database=\"dw_dvdrental\", user=\"postgres\", password=\"12345\", port='5431')\n"
   ]
  },
  {
   "cell_type": "markdown",
   "id": "198ef35d",
   "metadata": {},
   "source": [
    "## Transformacion-Carga Tabla Dw_Film"
   ]
  },
  {
   "cell_type": "code",
   "execution_count": 4,
   "id": "4221501d",
   "metadata": {
    "scrolled": true
   },
   "outputs": [],
   "source": [
    "cur1 = conexion.cursor()\n",
    "cur1.execute(\"\"\"SELECT film_id, title, description, release_year , l.\"name\" \"language\", rental_duration,  length, film.last_update\n",
    "FROM film, \"language\" l where film.language_id =l.language_id\"\"\")\n",
    "result = cur1.fetchall()\n",
    "\n",
    "cursor2 = conexion_dw.cursor()\n",
    "\n",
    "# Itera a través de los resultados y realiza la inserción\n",
    "for fila in result:\n",
    "    film_id, title, description, release_year, language, rental_duration, length, last_update  = fila\n",
    "    cursor2.execute(\"\"\"INSERT INTO dw_Film(film_id, title, description, release_year, language, rental_duration, length, last_update) \n",
    "    VALUES (%s, %s, %s, %s, %s, %s, %s, %s)\"\"\", (film_id, title, description, release_year, language, rental_duration, length, last_update))\n",
    "    conexion_dw.commit()  # Guarda los cambios en la base de datos\n",
    "    \n",
    "# Cierra los cursores y conexiones\n",
    "cur1.close()\n",
    "cursor2.close()"
   ]
  },
  {
   "cell_type": "markdown",
   "id": "387b3354",
   "metadata": {},
   "source": [
    "## Transformacion-Carga Tabla Dw_Store"
   ]
  },
  {
   "cell_type": "code",
   "execution_count": 5,
   "id": "189df461",
   "metadata": {
    "scrolled": true
   },
   "outputs": [],
   "source": [
    "cur1 = conexion.cursor()\n",
    "cur1.execute(\"\"\"SELECT  s.store_id, a.address, a.district, a.phone, c2.city, c.country, s.last_update  \n",
    "                FROM country c, city c2, address a, store s\n",
    "                WHERE c.country_id = c2.country_id and c2.city_id =a.city_id and a.address_id = s.address_id \"\"\")\n",
    "result = cur1.fetchall()\n",
    "\n",
    "cursor2 = conexion_dw.cursor()\n",
    "\n",
    "# Itera a través de los resultados y realiza la inserción\n",
    "for fila in result:\n",
    "    store_id, address, district, phone, city, country, last_update  = fila\n",
    "    cursor2.execute(\"\"\"INSERT INTO dw_Store(store_id, address, district, phone, city, country, last_update) \n",
    "    VALUES (%s, %s, %s, %s, %s, %s, %s)\"\"\", (store_id, address, district, phone, city, country, last_update))\n",
    "    conexion_dw.commit()  # Guarda los cambios en la base de datos\n",
    "    \n",
    "# Cierra los cursores y conexiones\n",
    "cur1.close()\n",
    "cursor2.close()"
   ]
  },
  {
   "cell_type": "markdown",
   "id": "4b73598c",
   "metadata": {},
   "source": [
    "## Transformacion-Carga Tabla Dw_Customer"
   ]
  },
  {
   "cell_type": "code",
   "execution_count": 6,
   "id": "83954891",
   "metadata": {
    "scrolled": true
   },
   "outputs": [],
   "source": [
    "cur1 = conexion.cursor()\n",
    "cur1.execute(\"\"\"SELECT  b.customer_id, b.first_name, b.last_name, b.email, b.active, a.address, a.district, a.phone, c2.city, c.country, b.last_update  \n",
    "                FROM country c, city c2, address a, customer b\n",
    "                WHERE c.country_id = c2.country_id and c2.city_id =a.city_id and a.address_id = b.address_id \"\"\")\n",
    "result = cur1.fetchall()\n",
    "\n",
    "cursor2 = conexion_dw.cursor()\n",
    "\n",
    "# Itera a través de los resultados y realiza la inserción\n",
    "for fila in result:\n",
    "    customer_id,first_name, last_name, email, active, address, district, phone, city, country, last_update  = fila\n",
    "    cursor2.execute(\"\"\"INSERT INTO dw_Customer(customer_id,first_name, last_name, email, active, address, district, phone, city, country, last_update) \n",
    "    VALUES (%s, %s, %s, %s, %s, %s, %s, %s, %s, %s, %s)\"\"\", (customer_id,first_name, last_name, email, active, address, district, phone, city, country, last_update))\n",
    "    conexion_dw.commit()  # Guarda los cambios en la base de datos\n",
    "    \n",
    "# Cierra los cursores y conexiones\n",
    "cur1.close()\n",
    "cursor2.close()"
   ]
  },
  {
   "cell_type": "markdown",
   "id": "9ef4dbbb",
   "metadata": {},
   "source": [
    "## Transformacion-Carga Tabla Dw_Staff"
   ]
  },
  {
   "cell_type": "code",
   "execution_count": 7,
   "id": "0d0eaa71",
   "metadata": {
    "scrolled": false
   },
   "outputs": [],
   "source": [
    "cur1 = conexion.cursor()\n",
    "cur1.execute(\"\"\"SELECT  s.staff_id , s.first_name, s.last_name, s.email, s.active, s.username, s.\"password\", a.address, a.district, a.phone, c2.city, c.country, s.last_update  \n",
    "                FROM country c, city c2, address a, staff s \n",
    "                WHERE c.country_id = c2.country_id and c2.city_id =a.city_id and a.address_id = s.staff_id \"\"\")\n",
    "result = cur1.fetchall()\n",
    "\n",
    "cursor2 = conexion_dw.cursor()\n",
    "\n",
    "# Itera a través de los resultados y realiza la inserción\n",
    "for fila in result:\n",
    "    staff_id,first_name, last_name, email, active, username, password, address,district, phone, city, country, last_update  = fila\n",
    "    cursor2.execute(\"\"\"INSERT INTO dw_Staff(staff_id,first_name, last_name, email, active, username, password, address,district, phone, city, country, last_update) \n",
    "    VALUES (%s, %s, %s, %s, %s, %s, %s, %s, %s, %s, %s, %s, %s)\"\"\", (staff_id,first_name, last_name, email, active, username, password, address,district, phone, city, country, last_update))\n",
    "    conexion_dw.commit()  # Guarda los cambios en la base de datos\n",
    "    \n",
    "# Cierra los cursores y conexiones\n",
    "cur1.close()\n",
    "cursor2.close()"
   ]
  },
  {
   "cell_type": "markdown",
   "id": "35b8318a",
   "metadata": {},
   "source": [
    "## Transformacion-Carga Tabla Dw_Date"
   ]
  },
  {
   "cell_type": "code",
   "execution_count": 8,
   "id": "7e7bd4c0",
   "metadata": {
    "scrolled": false
   },
   "outputs": [],
   "source": [
    "cur1 = conexion.cursor()\n",
    "cur1.execute(\"\"\"SELECT DISTINCT to_char(P.payment_date ,'YYYY/MM/DD') Fecha, to_char(P.payment_date ,'YYYY') yea,\n",
    "                to_char(P.payment_date,'MONTH') mes,to_char(P.payment_date ,'DD') dia \n",
    "                FROM payment p\"\"\")\n",
    "result = cur1.fetchall()\n",
    "\n",
    "cursor2 = conexion_dw.cursor()\n",
    "\n",
    "# Itera a través de los resultados y realiza la inserción\n",
    "for fila in result:\n",
    "    Fecha, yea, mes, dia  = fila\n",
    "    cursor2.execute(\"\"\"INSERT INTO dw_Date(Date, year, month, day) \n",
    "    VALUES (%s, %s, %s, %s)\"\"\", (Fecha, yea, mes, dia))\n",
    "    conexion_dw.commit()  # Guarda los cambios en la base de datos\n",
    "    \n",
    "# Cierra los cursores y conexiones\n",
    "cur1.close()\n",
    "cursor2.close()"
   ]
  },
  {
   "cell_type": "markdown",
   "id": "96c3e048",
   "metadata": {},
   "source": [
    "## Transformacion-Carga Tabla Dw_Sales"
   ]
  },
  {
   "cell_type": "code",
   "execution_count": 9,
   "id": "3e926f8c",
   "metadata": {
    "scrolled": true
   },
   "outputs": [],
   "source": [
    "cur1 = conexion.cursor()\n",
    "cur1.execute(\"\"\"SELECT DISTINCT p.payment_id, s.store_id,  s.staff_id, c.customer_id,  f.film_id, to_char(P.payment_date ,'YYYY/MM/DD') Fecha, p.amount  \n",
    "                FROM film f, inventory i, rental r , payment p, customer c, staff s, store s2 \n",
    "                WHERE f.film_id =i.film_id and i.inventory_id = r.inventory_id and r.rental_id = p.rental_id and p.customer_id =c.customer_id and p.staff_id =s.staff_id and s.store_id =s2.store_id  \"\"\")\n",
    "result = cur1.fetchall()\n",
    "\n",
    "cursor2 = conexion_dw.cursor()\n",
    "\n",
    "# Itera a través de los resultados y realiza la inserción\n",
    "for fila in result:\n",
    "    payment_id, store_id, staff_id, customer_id, film_id, Fecha, amount  = fila\n",
    "    cursor2.execute(\"\"\"INSERT INTO dw_Sales(sales_id, store_fk, staff_fk, customer_fk, film_fk, date_fk, amount) \n",
    "    VALUES (%s, %s, %s, %s, %s, %s, %s)\"\"\", (payment_id, store_id, staff_id, customer_id, film_id, Fecha, amount))\n",
    "    conexion_dw.commit()  # Guarda los cambios en la base de datos\n",
    "    \n",
    "# Cierra los cursores y conexiones\n",
    "cur1.close()\n",
    "cursor2.close()"
   ]
  },
  {
   "cell_type": "code",
   "execution_count": 10,
   "id": "6df40d8a",
   "metadata": {},
   "outputs": [],
   "source": [
    "conexion.close()\n",
    "\n",
    "conexion_dw.close()"
   ]
  },
  {
   "cell_type": "markdown",
   "id": "77980956",
   "metadata": {},
   "source": [
    "# FIN :)"
   ]
  }
 ],
 "metadata": {
  "kernelspec": {
   "display_name": "Python 3 (ipykernel)",
   "language": "python",
   "name": "python3"
  },
  "language_info": {
   "codemirror_mode": {
    "name": "ipython",
    "version": 3
   },
   "file_extension": ".py",
   "mimetype": "text/x-python",
   "name": "python",
   "nbconvert_exporter": "python",
   "pygments_lexer": "ipython3",
   "version": "3.11.5"
  }
 },
 "nbformat": 4,
 "nbformat_minor": 5
}
