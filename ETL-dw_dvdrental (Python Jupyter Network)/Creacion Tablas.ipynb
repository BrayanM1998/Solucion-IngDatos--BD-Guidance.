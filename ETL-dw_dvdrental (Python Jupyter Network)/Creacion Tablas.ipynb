{
 "cells": [
  {
   "cell_type": "markdown",
   "id": "d322fa59",
   "metadata": {},
   "source": [
    "# PRUEBA - ING DATOS (Creacion de Tablas - DW)"
   ]
  },
  {
   "cell_type": "markdown",
   "id": "7ef3447a",
   "metadata": {},
   "source": [
    "## Log Ejecucion"
   ]
  },
  {
   "cell_type": "code",
   "execution_count": 1,
   "id": "86b0e5da",
   "metadata": {},
   "outputs": [
    {
     "data": {
      "text/html": [
       "<style type=\"text/css\">.generated-text {   font-family:Verdana, sans-serif; font-size:inherit;   font-style:italic;   line-height:20px;   text-align:justify;   color:#1b5727;   background-color:#ffffff;   padding:20px;   margin:auto;}</style>\n",
       "<h6 class=\"generated-text\">Proceso ejecutado por: Brayan Muñoz</h6>"
      ],
      "text/plain": [
       "<IPython.core.display.HTML object>"
      ]
     },
     "metadata": {},
     "output_type": "display_data"
    },
    {
     "data": {
      "text/plain": [
       "'Fecha y hora de inicio: '"
      ]
     },
     "metadata": {},
     "output_type": "display_data"
    },
    {
     "data": {
      "text/plain": [
       "'2024-02-20 08:38'"
      ]
     },
     "metadata": {},
     "output_type": "display_data"
    },
    {
     "data": {
      "text/plain": [
       "{'base_url': '/',\n",
       " 'hostname': 'localhost',\n",
       " 'notebook_dir': 'C:\\\\Users\\\\braya',\n",
       " 'password': False,\n",
       " 'pid': 10468,\n",
       " 'port': 8888,\n",
       " 'secure': False,\n",
       " 'sock': '',\n",
       " 'token': 'cfc56ea9c00d163e9f8813d5fe0db7c04c31ccc8b93e5ec3',\n",
       " 'url': 'http://localhost:8888/'}"
      ]
     },
     "metadata": {},
     "output_type": "display_data"
    }
   ],
   "source": [
    "import datetime\n",
    "from IPython.display import display, HTML\n",
    "from notebook import notebookapp\n",
    "servers = list(notebookapp.list_running_servers())\n",
    "now = datetime.datetime.now()\n",
    "display(HTML(\"\"\"<style type=\"text/css\">.generated-text {   font-family:Verdana, sans-serif; font-size:inherit;   font-style:italic;   line-height:20px;   text-align:justify;   color:#1b5727;   background-color:#ffffff;   padding:20px;   margin:auto;}</style>\n",
    "<h6 class=\"generated-text\">Proceso ejecutado por: Brayan Muñoz</h6>\"\"\"))\n",
    "display (\"Fecha y hora de inicio: \")\n",
    "display (now.strftime(\"%Y-%m-%d %H:%M\"))\n",
    "display(servers[0])"
   ]
  },
  {
   "cell_type": "markdown",
   "id": "517e0387",
   "metadata": {},
   "source": [
    "## Librerias"
   ]
  },
  {
   "cell_type": "code",
   "execution_count": 2,
   "id": "201cd394",
   "metadata": {},
   "outputs": [],
   "source": [
    "import psycopg2 as bd"
   ]
  },
  {
   "cell_type": "markdown",
   "id": "0a1ae9d4",
   "metadata": {},
   "source": [
    "### Creacion Tabla 'Store'"
   ]
  },
  {
   "cell_type": "code",
   "execution_count": 3,
   "id": "45fb93e6",
   "metadata": {},
   "outputs": [],
   "source": [
    "conexion_dw = bd.connect(host=\"localhost\", database=\"dw_dvdrental\", user=\"postgres\", password=\"12345\", port='5431')\n",
    "cur = conexion_dw.cursor()\n",
    "cur.execute(\"\"\"CREATE TABLE dw_Store( \n",
    "    store_id SERIAL4 PRIMARY KEY,\n",
    "    address VARCHAR(50) NOT NULL,\n",
    "    district VARCHAR(20) NOT NULL, \n",
    "    phone VARCHAR(20) NOT NULL,\n",
    "    city VARCHAR(50) NOT NULL,\n",
    "    country VARCHAR(50) NOT NULL,\n",
    "    last_update timestamp NOT NULL\n",
    "    )\"\"\")\n",
    "conexion_dw.commit()\n",
    "cur.close()"
   ]
  },
  {
   "cell_type": "markdown",
   "id": "4b5c6216",
   "metadata": {},
   "source": [
    "### Creacion Tabla 'Customer'"
   ]
  },
  {
   "cell_type": "code",
   "execution_count": 4,
   "id": "39466fd4",
   "metadata": {},
   "outputs": [],
   "source": [
    "conexion_dw = bd.connect(host=\"localhost\", database=\"dw_dvdrental\", user=\"postgres\", password=\"12345\", port='5431')\n",
    "cur = conexion_dw.cursor()\n",
    "cur.execute(\"\"\"CREATE TABLE dw_Customer( \n",
    "    customer_id SERIAL4 PRIMARY KEY,\n",
    "    first_name varchar(45) NOT NULL,\n",
    "    last_name  varchar(45) NOT NULL, \n",
    "    email      varchar(50),  \n",
    "    active     int4, \n",
    "    address    VARCHAR(50) NOT NULL,\n",
    "    district   VARCHAR(20) NOT NULL, \n",
    "    phone      VARCHAR(20) NOT NULL,\n",
    "    city       VARCHAR(50) NOT NULL,\n",
    "    country    VARCHAR(50) NOT NULL,\n",
    "    last_update timestamp  NOT NULL\n",
    "    )\"\"\")\n",
    "conexion_dw.commit()\n",
    "cur.close()"
   ]
  },
  {
   "cell_type": "markdown",
   "id": "3e7a3113",
   "metadata": {},
   "source": [
    "### Creacion Tabla 'Staff'"
   ]
  },
  {
   "cell_type": "code",
   "execution_count": 5,
   "id": "49d3e476",
   "metadata": {},
   "outputs": [],
   "source": [
    "conexion_dw = bd.connect(host=\"localhost\", database=\"dw_dvdrental\", user=\"postgres\", password=\"12345\", port='5431')\n",
    "cur = conexion_dw.cursor()\n",
    "cur.execute(\"\"\"CREATE TABLE dw_Staff( \n",
    "    staff_id SERIAL4 PRIMARY KEY,\n",
    "    first_name varchar(45) NOT NULL,\n",
    "    last_name  varchar(45) NOT NULL, \n",
    "    email      varchar(50) ,  \n",
    "    active     bool NOT NULL, \n",
    "    username   varchar(16) NOT NULL,\n",
    "    password   varchar(40),\n",
    "    address    VARCHAR(50),\n",
    "    district   VARCHAR(20), \n",
    "    phone      VARCHAR(20),\n",
    "    city       VARCHAR(50) NOT NULL,\n",
    "    country    VARCHAR(50) NOT NULL,\n",
    "    last_update timestamp\n",
    "    )\"\"\")\n",
    "conexion_dw.commit()\n",
    "cur.close()"
   ]
  },
  {
   "cell_type": "markdown",
   "id": "099a28e0",
   "metadata": {},
   "source": [
    "### Creacion Tabla 'Film'"
   ]
  },
  {
   "cell_type": "code",
   "execution_count": 6,
   "id": "97eab0e2",
   "metadata": {
    "scrolled": true
   },
   "outputs": [],
   "source": [
    "conexion_dw = bd.connect(host=\"localhost\", database=\"dw_dvdrental\", user=\"postgres\", password=\"12345\", port='5431')\n",
    "cur = conexion_dw.cursor()\n",
    "cur.execute(\"\"\"CREATE TABLE dw_Film( \n",
    "    film_id SERIAL4 PRIMARY KEY,\n",
    "    title varchar(255) NOT NULL,\n",
    "    description  text, \n",
    "    release_year int4,\n",
    "    language bpchar(20),\n",
    "    rental_duration int2,\n",
    "    length int2,\n",
    "    last_update timestamp\n",
    "    )\"\"\")\n",
    "conexion_dw.commit()\n",
    "cur.close()"
   ]
  },
  {
   "cell_type": "markdown",
   "id": "e51670d4",
   "metadata": {},
   "source": [
    "### Creacion Tabla 'Date'"
   ]
  },
  {
   "cell_type": "code",
   "execution_count": 7,
   "id": "a7bda269",
   "metadata": {},
   "outputs": [],
   "source": [
    "conexion_dw = bd.connect(host=\"localhost\", database=\"dw_dvdrental\", user=\"postgres\", password=\"12345\", port='5431')\n",
    "cur = conexion_dw.cursor()\n",
    "cur.execute(\"\"\"CREATE TABLE dw_Date( \n",
    "    Date date PRIMARY KEY,\n",
    "    year int4,\n",
    "    month varchar(20),\n",
    "    day int4\n",
    "    )\"\"\")\n",
    "conexion_dw.commit()\n",
    "cur.close()"
   ]
  },
  {
   "cell_type": "markdown",
   "id": "761c3a8c",
   "metadata": {},
   "source": [
    "### Creacion Tabla 'Sales'"
   ]
  },
  {
   "cell_type": "code",
   "execution_count": 8,
   "id": "22198e26",
   "metadata": {},
   "outputs": [],
   "source": [
    "conexion_dw = bd.connect(host=\"localhost\", database=\"dw_dvdrental\", user=\"postgres\", password=\"12345\", port='5431')\n",
    "cur = conexion_dw.cursor()\n",
    "cur.execute(\"\"\"CREATE TABLE dw_Sales( \n",
    "    sales_id SERIAL4 PRIMARY KEY,\n",
    "    store_fk SERIAL4 NOT NULL,\n",
    "    staff_fk SERIAL4 NOT NULL,\n",
    "    customer_fk SERIAL4 NOT NULL,\n",
    "    film_fk SERIAL4 NOT NULL,\n",
    "    date_fk date NOT NULL,\n",
    "    amount numeric(5, 2),\n",
    "    foreign key (store_fk) references dw_Store(store_id),\n",
    "    foreign key (staff_fk) references dw_Staff(staff_id),\n",
    "    foreign key (customer_fk) references dw_Customer(customer_id),\n",
    "    foreign key (film_fk) references dw_Film(film_id),\n",
    "    foreign key (date_fk) references dw_Date(Date)\n",
    "    )\"\"\")\n",
    "conexion_dw.commit()\n",
    "cur.close()"
   ]
  },
  {
   "cell_type": "code",
   "execution_count": 9,
   "id": "fddafb42",
   "metadata": {},
   "outputs": [],
   "source": [
    "\n",
    "conexion_dw.close()"
   ]
  },
  {
   "cell_type": "markdown",
   "id": "e05ba799",
   "metadata": {},
   "source": [
    "# FIN :)"
   ]
  }
 ],
 "metadata": {
  "kernelspec": {
   "display_name": "Python 3 (ipykernel)",
   "language": "python",
   "name": "python3"
  },
  "language_info": {
   "codemirror_mode": {
    "name": "ipython",
    "version": 3
   },
   "file_extension": ".py",
   "mimetype": "text/x-python",
   "name": "python",
   "nbconvert_exporter": "python",
   "pygments_lexer": "ipython3",
   "version": "3.11.5"
  }
 },
 "nbformat": 4,
 "nbformat_minor": 5
}
